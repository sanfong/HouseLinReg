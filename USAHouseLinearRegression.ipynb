{
 "cells": [
  {
   "cell_type": "markdown",
   "metadata": {},
   "source": [
    "# USA House Price Prediction using Linear Regression"
   ]
  },
  {
   "cell_type": "markdown",
   "metadata": {},
   "source": [
    "## 📁 เกี่ยวกับชุดข้อมูล"
   ]
  },
  {
   "cell_type": "markdown",
   "metadata": {},
   "source": [
    "[USA_Housing](https://www.kaggle.com/datasets/vedavyasv/usa-housing) เป็นชุดข้อมูลที่เกี่ยวกับปัจจัยที่ส่งผลต่อราคาบ้านในสหรัฐอเมริกา  \n",
    "\n",
    "🧾 ข้อมูลประกอบไปด้วย :\n",
    "* `Avg. Area Income` : รายได้เฉลี่ยในพื้นที่ที่บ้านอยู่\n",
    "* `Avg. Area House Age` : อายุบ้านโดยเฉลี่ยในพื้นที่เดียวกัน\n",
    "* `Avg. Area Number of Rooms` : จำนวนห้องโดยเฉลี่ยในพื้นที่เดียวกัน\n",
    "* `Avg. Area Number of Bedrooms` : จำนวนห้องนอนโดยเฉลี่ยในพื้นที่เดียวกัน\n",
    "* `Area Population` : จำนวนประชากรในพื้นที่\n",
    "* `Price` : ราคาบ้าน\n",
    "* `Address` : ที่อยู่ของบ้าน"
   ]
  },
  {
   "cell_type": "markdown",
   "metadata": {},
   "source": [
    "## 📚 นำเข้า library ที่จำเป็น"
   ]
  },
  {
   "cell_type": "code",
   "execution_count": 84,
   "metadata": {},
   "outputs": [],
   "source": [
    "import numpy as np  # Linear Algebra\n",
    "import pandas as pd  # Data processing, CSV file I/O\n",
    "\n",
    "# Graph plotting\n",
    "import seaborn as sns\n",
    "import matplotlib.pyplot as plt"
   ]
  },
  {
   "cell_type": "markdown",
   "metadata": {},
   "source": [
    "## 💾 นำเข้าและตรวจสอบข้อมูล"
   ]
  },
  {
   "cell_type": "code",
   "execution_count": 85,
   "metadata": {},
   "outputs": [
    {
     "data": {
      "text/html": [
       "<div>\n",
       "<style scoped>\n",
       "    .dataframe tbody tr th:only-of-type {\n",
       "        vertical-align: middle;\n",
       "    }\n",
       "\n",
       "    .dataframe tbody tr th {\n",
       "        vertical-align: top;\n",
       "    }\n",
       "\n",
       "    .dataframe thead th {\n",
       "        text-align: right;\n",
       "    }\n",
       "</style>\n",
       "<table border=\"1\" class=\"dataframe\">\n",
       "  <thead>\n",
       "    <tr style=\"text-align: right;\">\n",
       "      <th></th>\n",
       "      <th>Avg. Area Income</th>\n",
       "      <th>Avg. Area House Age</th>\n",
       "      <th>Avg. Area Number of Rooms</th>\n",
       "      <th>Avg. Area Number of Bedrooms</th>\n",
       "      <th>Area Population</th>\n",
       "      <th>Price</th>\n",
       "      <th>Address</th>\n",
       "    </tr>\n",
       "  </thead>\n",
       "  <tbody>\n",
       "    <tr>\n",
       "      <th>0</th>\n",
       "      <td>79545.458574</td>\n",
       "      <td>5.682861</td>\n",
       "      <td>7.009188</td>\n",
       "      <td>4.09</td>\n",
       "      <td>23086.800503</td>\n",
       "      <td>1.059034e+06</td>\n",
       "      <td>208 Michael Ferry Apt. 674\\r\\nLaurabury, NE 37...</td>\n",
       "    </tr>\n",
       "    <tr>\n",
       "      <th>1</th>\n",
       "      <td>79248.642455</td>\n",
       "      <td>6.002900</td>\n",
       "      <td>6.730821</td>\n",
       "      <td>3.09</td>\n",
       "      <td>40173.072174</td>\n",
       "      <td>1.505891e+06</td>\n",
       "      <td>188 Johnson Views Suite 079\\r\\nLake Kathleen, ...</td>\n",
       "    </tr>\n",
       "    <tr>\n",
       "      <th>2</th>\n",
       "      <td>61287.067179</td>\n",
       "      <td>5.865890</td>\n",
       "      <td>8.512727</td>\n",
       "      <td>5.13</td>\n",
       "      <td>36882.159400</td>\n",
       "      <td>1.058988e+06</td>\n",
       "      <td>9127 Elizabeth Stravenue\\r\\nDanieltown, WI 064...</td>\n",
       "    </tr>\n",
       "    <tr>\n",
       "      <th>3</th>\n",
       "      <td>63345.240046</td>\n",
       "      <td>7.188236</td>\n",
       "      <td>5.586729</td>\n",
       "      <td>3.26</td>\n",
       "      <td>34310.242831</td>\n",
       "      <td>1.260617e+06</td>\n",
       "      <td>USS Barnett\\r\\nFPO AP 44820</td>\n",
       "    </tr>\n",
       "    <tr>\n",
       "      <th>4</th>\n",
       "      <td>59982.197226</td>\n",
       "      <td>5.040555</td>\n",
       "      <td>7.839388</td>\n",
       "      <td>4.23</td>\n",
       "      <td>26354.109472</td>\n",
       "      <td>6.309435e+05</td>\n",
       "      <td>USNS Raymond\\r\\nFPO AE 09386</td>\n",
       "    </tr>\n",
       "    <tr>\n",
       "      <th>...</th>\n",
       "      <td>...</td>\n",
       "      <td>...</td>\n",
       "      <td>...</td>\n",
       "      <td>...</td>\n",
       "      <td>...</td>\n",
       "      <td>...</td>\n",
       "      <td>...</td>\n",
       "    </tr>\n",
       "    <tr>\n",
       "      <th>4995</th>\n",
       "      <td>60567.944140</td>\n",
       "      <td>7.830362</td>\n",
       "      <td>6.137356</td>\n",
       "      <td>3.46</td>\n",
       "      <td>22837.361035</td>\n",
       "      <td>1.060194e+06</td>\n",
       "      <td>USNS Williams\\r\\nFPO AP 30153-7653</td>\n",
       "    </tr>\n",
       "    <tr>\n",
       "      <th>4996</th>\n",
       "      <td>78491.275435</td>\n",
       "      <td>6.999135</td>\n",
       "      <td>6.576763</td>\n",
       "      <td>4.02</td>\n",
       "      <td>25616.115489</td>\n",
       "      <td>1.482618e+06</td>\n",
       "      <td>PSC 9258, Box 8489\\r\\nAPO AA 42991-3352</td>\n",
       "    </tr>\n",
       "    <tr>\n",
       "      <th>4997</th>\n",
       "      <td>63390.686886</td>\n",
       "      <td>7.250591</td>\n",
       "      <td>4.805081</td>\n",
       "      <td>2.13</td>\n",
       "      <td>33266.145490</td>\n",
       "      <td>1.030730e+06</td>\n",
       "      <td>4215 Tracy Garden Suite 076\\r\\nJoshualand, VA ...</td>\n",
       "    </tr>\n",
       "    <tr>\n",
       "      <th>4998</th>\n",
       "      <td>68001.331235</td>\n",
       "      <td>5.534388</td>\n",
       "      <td>7.130144</td>\n",
       "      <td>5.44</td>\n",
       "      <td>42625.620156</td>\n",
       "      <td>1.198657e+06</td>\n",
       "      <td>USS Wallace\\r\\nFPO AE 73316</td>\n",
       "    </tr>\n",
       "    <tr>\n",
       "      <th>4999</th>\n",
       "      <td>65510.581804</td>\n",
       "      <td>5.992305</td>\n",
       "      <td>6.792336</td>\n",
       "      <td>4.07</td>\n",
       "      <td>46501.283803</td>\n",
       "      <td>1.298950e+06</td>\n",
       "      <td>37778 George Ridges Apt. 509\\r\\nEast Holly, NV...</td>\n",
       "    </tr>\n",
       "  </tbody>\n",
       "</table>\n",
       "<p>5000 rows × 7 columns</p>\n",
       "</div>"
      ],
      "text/plain": [
       "      Avg. Area Income  Avg. Area House Age  Avg. Area Number of Rooms  \\\n",
       "0         79545.458574             5.682861                   7.009188   \n",
       "1         79248.642455             6.002900                   6.730821   \n",
       "2         61287.067179             5.865890                   8.512727   \n",
       "3         63345.240046             7.188236                   5.586729   \n",
       "4         59982.197226             5.040555                   7.839388   \n",
       "...                ...                  ...                        ...   \n",
       "4995      60567.944140             7.830362                   6.137356   \n",
       "4996      78491.275435             6.999135                   6.576763   \n",
       "4997      63390.686886             7.250591                   4.805081   \n",
       "4998      68001.331235             5.534388                   7.130144   \n",
       "4999      65510.581804             5.992305                   6.792336   \n",
       "\n",
       "      Avg. Area Number of Bedrooms  Area Population         Price  \\\n",
       "0                             4.09     23086.800503  1.059034e+06   \n",
       "1                             3.09     40173.072174  1.505891e+06   \n",
       "2                             5.13     36882.159400  1.058988e+06   \n",
       "3                             3.26     34310.242831  1.260617e+06   \n",
       "4                             4.23     26354.109472  6.309435e+05   \n",
       "...                            ...              ...           ...   \n",
       "4995                          3.46     22837.361035  1.060194e+06   \n",
       "4996                          4.02     25616.115489  1.482618e+06   \n",
       "4997                          2.13     33266.145490  1.030730e+06   \n",
       "4998                          5.44     42625.620156  1.198657e+06   \n",
       "4999                          4.07     46501.283803  1.298950e+06   \n",
       "\n",
       "                                                Address  \n",
       "0     208 Michael Ferry Apt. 674\\r\\nLaurabury, NE 37...  \n",
       "1     188 Johnson Views Suite 079\\r\\nLake Kathleen, ...  \n",
       "2     9127 Elizabeth Stravenue\\r\\nDanieltown, WI 064...  \n",
       "3                           USS Barnett\\r\\nFPO AP 44820  \n",
       "4                          USNS Raymond\\r\\nFPO AE 09386  \n",
       "...                                                 ...  \n",
       "4995                 USNS Williams\\r\\nFPO AP 30153-7653  \n",
       "4996            PSC 9258, Box 8489\\r\\nAPO AA 42991-3352  \n",
       "4997  4215 Tracy Garden Suite 076\\r\\nJoshualand, VA ...  \n",
       "4998                        USS Wallace\\r\\nFPO AE 73316  \n",
       "4999  37778 George Ridges Apt. 509\\r\\nEast Holly, NV...  \n",
       "\n",
       "[5000 rows x 7 columns]"
      ]
     },
     "execution_count": 85,
     "metadata": {},
     "output_type": "execute_result"
    }
   ],
   "source": [
    "df = pd.read_csv(\"USA_Housing.csv\")\n",
    "df"
   ]
  },
  {
   "cell_type": "code",
   "execution_count": 86,
   "metadata": {},
   "outputs": [
    {
     "name": "stdout",
     "output_type": "stream",
     "text": [
      "<class 'pandas.core.frame.DataFrame'>\n",
      "RangeIndex: 5000 entries, 0 to 4999\n",
      "Data columns (total 7 columns):\n",
      " #   Column                        Non-Null Count  Dtype  \n",
      "---  ------                        --------------  -----  \n",
      " 0   Avg. Area Income              5000 non-null   float64\n",
      " 1   Avg. Area House Age           5000 non-null   float64\n",
      " 2   Avg. Area Number of Rooms     5000 non-null   float64\n",
      " 3   Avg. Area Number of Bedrooms  5000 non-null   float64\n",
      " 4   Area Population               5000 non-null   float64\n",
      " 5   Price                         5000 non-null   float64\n",
      " 6   Address                       5000 non-null   object \n",
      "dtypes: float64(6), object(1)\n",
      "memory usage: 273.6+ KB\n"
     ]
    }
   ],
   "source": [
    "df.info()  # Check for null and data type"
   ]
  },
  {
   "cell_type": "code",
   "execution_count": 87,
   "metadata": {},
   "outputs": [
    {
     "data": {
      "text/html": [
       "<div>\n",
       "<style scoped>\n",
       "    .dataframe tbody tr th:only-of-type {\n",
       "        vertical-align: middle;\n",
       "    }\n",
       "\n",
       "    .dataframe tbody tr th {\n",
       "        vertical-align: top;\n",
       "    }\n",
       "\n",
       "    .dataframe thead th {\n",
       "        text-align: right;\n",
       "    }\n",
       "</style>\n",
       "<table border=\"1\" class=\"dataframe\">\n",
       "  <thead>\n",
       "    <tr style=\"text-align: right;\">\n",
       "      <th></th>\n",
       "      <th>Avg. Area Income</th>\n",
       "      <th>Avg. Area House Age</th>\n",
       "      <th>Avg. Area Number of Rooms</th>\n",
       "      <th>Avg. Area Number of Bedrooms</th>\n",
       "      <th>Area Population</th>\n",
       "      <th>Price</th>\n",
       "    </tr>\n",
       "  </thead>\n",
       "  <tbody>\n",
       "    <tr>\n",
       "      <th>count</th>\n",
       "      <td>5000.000000</td>\n",
       "      <td>5000.000000</td>\n",
       "      <td>5000.000000</td>\n",
       "      <td>5000.000000</td>\n",
       "      <td>5000.000000</td>\n",
       "      <td>5.000000e+03</td>\n",
       "    </tr>\n",
       "    <tr>\n",
       "      <th>mean</th>\n",
       "      <td>68583.108984</td>\n",
       "      <td>5.977222</td>\n",
       "      <td>6.987792</td>\n",
       "      <td>3.981330</td>\n",
       "      <td>36163.516039</td>\n",
       "      <td>1.232073e+06</td>\n",
       "    </tr>\n",
       "    <tr>\n",
       "      <th>std</th>\n",
       "      <td>10657.991214</td>\n",
       "      <td>0.991456</td>\n",
       "      <td>1.005833</td>\n",
       "      <td>1.234137</td>\n",
       "      <td>9925.650114</td>\n",
       "      <td>3.531176e+05</td>\n",
       "    </tr>\n",
       "    <tr>\n",
       "      <th>min</th>\n",
       "      <td>17796.631190</td>\n",
       "      <td>2.644304</td>\n",
       "      <td>3.236194</td>\n",
       "      <td>2.000000</td>\n",
       "      <td>172.610686</td>\n",
       "      <td>1.593866e+04</td>\n",
       "    </tr>\n",
       "    <tr>\n",
       "      <th>25%</th>\n",
       "      <td>61480.562388</td>\n",
       "      <td>5.322283</td>\n",
       "      <td>6.299250</td>\n",
       "      <td>3.140000</td>\n",
       "      <td>29403.928702</td>\n",
       "      <td>9.975771e+05</td>\n",
       "    </tr>\n",
       "    <tr>\n",
       "      <th>50%</th>\n",
       "      <td>68804.286404</td>\n",
       "      <td>5.970429</td>\n",
       "      <td>7.002902</td>\n",
       "      <td>4.050000</td>\n",
       "      <td>36199.406689</td>\n",
       "      <td>1.232669e+06</td>\n",
       "    </tr>\n",
       "    <tr>\n",
       "      <th>75%</th>\n",
       "      <td>75783.338666</td>\n",
       "      <td>6.650808</td>\n",
       "      <td>7.665871</td>\n",
       "      <td>4.490000</td>\n",
       "      <td>42861.290769</td>\n",
       "      <td>1.471210e+06</td>\n",
       "    </tr>\n",
       "    <tr>\n",
       "      <th>max</th>\n",
       "      <td>107701.748378</td>\n",
       "      <td>9.519088</td>\n",
       "      <td>10.759588</td>\n",
       "      <td>6.500000</td>\n",
       "      <td>69621.713378</td>\n",
       "      <td>2.469066e+06</td>\n",
       "    </tr>\n",
       "  </tbody>\n",
       "</table>\n",
       "</div>"
      ],
      "text/plain": [
       "       Avg. Area Income  Avg. Area House Age  Avg. Area Number of Rooms  \\\n",
       "count       5000.000000          5000.000000                5000.000000   \n",
       "mean       68583.108984             5.977222                   6.987792   \n",
       "std        10657.991214             0.991456                   1.005833   \n",
       "min        17796.631190             2.644304                   3.236194   \n",
       "25%        61480.562388             5.322283                   6.299250   \n",
       "50%        68804.286404             5.970429                   7.002902   \n",
       "75%        75783.338666             6.650808                   7.665871   \n",
       "max       107701.748378             9.519088                  10.759588   \n",
       "\n",
       "       Avg. Area Number of Bedrooms  Area Population         Price  \n",
       "count                   5000.000000      5000.000000  5.000000e+03  \n",
       "mean                       3.981330     36163.516039  1.232073e+06  \n",
       "std                        1.234137      9925.650114  3.531176e+05  \n",
       "min                        2.000000       172.610686  1.593866e+04  \n",
       "25%                        3.140000     29403.928702  9.975771e+05  \n",
       "50%                        4.050000     36199.406689  1.232669e+06  \n",
       "75%                        4.490000     42861.290769  1.471210e+06  \n",
       "max                        6.500000     69621.713378  2.469066e+06  "
      ]
     },
     "execution_count": 87,
     "metadata": {},
     "output_type": "execute_result"
    }
   ],
   "source": [
    "df.describe()"
   ]
  },
  {
   "cell_type": "markdown",
   "metadata": {},
   "source": [
    "> Four assumptions of multiple regression\n",
    "> 1. `Linearity` : ความสัมพันธ์ระหว่างตัวแปรอิสระ (X) กับตัวแปรตาม (Y) เป็นเส้นตรง\n",
    "> 2. `Homoscedasticity` : ความแปรปรวนของความคลาดเคลื่อน (Residual) เท่ากันสำหรับทุกค่า X\n",
    "> 3. `Independence` : ตัวแปรอิสระไม่เกี่ยวข้องกันมากเกินไป\n",
    "> 4. `Normality` : การแจกแจงของตัวแปรตามเป็นแบบโค้งปกติ (Normal Distribution) ที่ทุกค่าของ X\n",
    "\n",
    "จากข้อ 3 เราจึงจำเป็นต้องตรวจสอบความสัมพันธ์ของตัวแปรอิสระว่ามีความเกี่ยวข้องกันมากน้อยแค่ไหน  \n",
    "โดยใช้ Pearson's correlation  \n",
    "![pearson_formula](https://editor.analyticsvidhya.com/uploads/39170Formula.JPG)  \n",
    "ถ้าข้อมูลมีความเกี่ยวข้องกันมากเกินไปก็ไม่ควรนำมาใช้"
   ]
  },
  {
   "cell_type": "code",
   "execution_count": 88,
   "metadata": {},
   "outputs": [
    {
     "data": {
      "text/plain": [
       "<AxesSubplot:>"
      ]
     },
     "execution_count": 88,
     "metadata": {},
     "output_type": "execute_result"
    },
    {
     "data": {
      "image/png": "[encoded data removed]",
      "text/plain": [
       "<Figure size 640x480 with 2 Axes>"
      ]
     },
     "metadata": {},
     "output_type": "display_data"
    }
   ],
   "source": [
    "sns.heatmap(df.corr(method='pearson'), annot=True)"
   ]
  },
  {
   "cell_type": "markdown",
   "metadata": {},
   "source": [
    "> 4. `Normality` : การแจกแจงของตัวแปรตามเป็นแบบโค้งปกติ (Normal Distribution) ที่ทุกค่าของ X\n",
    "\n",
    "ตรวจสอบการแจกแจงของราคาบ้านจาก assumption ในข้อ 4"
   ]
  },
  {
   "cell_type": "code",
   "execution_count": 89,
   "metadata": {},
   "outputs": [
    {
     "data": {
      "text/plain": [
       "<AxesSubplot:xlabel='Price', ylabel='Count'>"
      ]
     },
     "execution_count": 89,
     "metadata": {},
     "output_type": "execute_result"
    },
    {
     "data": {
      "image/png": "[encoded data removed]",
      "text/plain": [
       "<Figure size 640x480 with 1 Axes>"
      ]
     },
     "metadata": {},
     "output_type": "display_data"
    }
   ],
   "source": [
    "sns.histplot(df['Price'])"
   ]
  },
  {
   "cell_type": "markdown",
   "metadata": {},
   "source": [
    "## 📈 Training a Linear Regression Model"
   ]
  },
  {
   "cell_type": "markdown",
   "metadata": {},
   "source": [
    "ในการฝึกโมเดลจะมีอยู่ 2 วิธี\n",
    "1. ฝึกด้วย *`Closed-form Equation`*\n",
    "2. ฝึกด้วย *`Gradient Descent`*"
   ]
  },
  {
   "cell_type": "markdown",
   "metadata": {},
   "source": [
    "แต่ก่อนจะเริ่มฝึกโมเดล เราจำเป็นที่จะต้องเข้าใจตรงกันก่อน  \n",
    "โดยกำหนดเครื่องหมายให้\n",
    "* $A$ ตัวพิมพ์ใหญ่คือ matrix\n",
    "* $\\boldsymbol{a}$ ตัวหนาพิมพ์เล็กคือ vector\n",
    "* $a$ ตัวพิมพ์เล็กคือ scalar"
   ]
  },
  {
   "cell_type": "markdown",
   "metadata": {},
   "source": [
    "สมการที่ใช้การทำนายของ Linear Regression คือ  \n",
    "$$\\hat{y} = θ_0x_0 + θ_1x_1 + θ_2x_2 + \\ldots + θ_nx_n$$  \n",
    "โดยที่  \n",
    "$\\hat{y}$: ค่าที่โมเดลทำนายออกมา  \n",
    "$\\theta$: model parameters  \n",
    "$x$: feature value  \n",
    "$n$: จำนวน feature ในชุดข้อมูล  \n",
    "$x_0$: 1 (สำหรับการคูณ vector)  \n",
    "$\\theta_0$: Intercept"
   ]
  },
  {
   "cell_type": "markdown",
   "metadata": {},
   "source": [
    "สังเกตว่าสมการนี้คือ dot product ระหว่าง θ กับ x จึงสามารถเขียนสมการใหม่ได้ออกมาเป็น\n",
    "$$\\hat{y} = \\boldsymbol{x}^T \\boldsymbol{\\theta}$$\n",
    "\n",
    "แต่ในการคำนวณจริง เราจำเป็นต้องคำนวณค่า $\\hat{y}$ หลายตัวพร้อมกัน  \n",
    "จึงให้ X เป็น matrix ที่มี $n$ แถวแทนจำนวนชุดข้อมูล และ $i$ คอลัมน์แทนจำนวน feature\n",
    "$$\n",
    "\\begin{bmatrix}  \n",
    "x_0^0  & \\cdots & x_i^0  \\\\\n",
    "\\vdots & \\ddots & \\vdots \\\\\n",
    "x_0^n  & \\cdots & x_i^n  \\\\\n",
    "\\end{bmatrix}  \n",
    "\\begin{bmatrix}  \n",
    "\\theta_0 \\\\\n",
    "\\vdots   \\\\\n",
    "\\theta_i \\\\\n",
    "\\end{bmatrix} = \n",
    "\\begin{bmatrix}  \n",
    "\\hat{y}_0 \\\\\n",
    "\\vdots  \\\\\n",
    "\\hat{y}_n \\\\\n",
    "\\end{bmatrix}  \n",
    "$$\n",
    "$$\\boldsymbol{\\hat{y}} = X\\boldsymbol{\\theta}$$"
   ]
  },
  {
   "cell_type": "markdown",
   "metadata": {},
   "source": [
    "### 👇 กำหนดตัวแปรอิสระ X และตัวแปรตาม y"
   ]
  },
  {
   "cell_type": "code",
   "execution_count": 90,
   "metadata": {},
   "outputs": [],
   "source": [
    "X = df.iloc[:, :5].to_numpy()  # Everything except 'Price' and 'Address'\n",
    "y = df[['Price']].to_numpy()"
   ]
  },
  {
   "cell_type": "markdown",
   "metadata": {},
   "source": [
    "### 🧱 Train Test Split"
   ]
  },
  {
   "cell_type": "markdown",
   "metadata": {},
   "source": [
    "ใช้ฟังก์ชัน train_test_split จาก sklearn.model_selection  \n",
    "ทำการแบ่งข้อมูลออกเป็น 2 ชุด\n",
    "* ส่วนหนึ่งเอาไว้สำหรับการฝึกโมเดล\n",
    "* อีกส่วนหนึ่งเอาไว้สำหรับการทดสอบ\n",
    "\n",
    "กำหนดให้ข้อมูลฝึกเป็น 80% ของข้อมูลทั้งหมด"
   ]
  },
  {
   "cell_type": "code",
   "execution_count": 91,
   "metadata": {},
   "outputs": [],
   "source": [
    "from sklearn.model_selection import train_test_split\n",
    "\n",
    "seed = 42\n",
    "test_percent = 0.2\n",
    "split: list[np.ndarray] = train_test_split(X, y, test_size=test_percent, random_state=seed)\n",
    "X_train, X_test, y_train, y_test = split"
   ]
  },
  {
   "cell_type": "markdown",
   "metadata": {},
   "source": [
    "## ⚪ Closed-form Equation"
   ]
  },
  {
   "cell_type": "markdown",
   "metadata": {},
   "source": [
    "เป็นการคำนวณหาค่า model parameters โดยตรง\n",
    "\n",
    "โดยเราจะกำหนด cost function แล้วหา model parameter ที่ทำให้ cost function มีค่าน้อยที่สุดที่เป็นไปได้  \n",
    "cost function ที่จะใช้คือ Mean Squared Error (MSE)\n",
    "$$MSE(\\hat{y}, y) = \\frac{1}{n} \\sum_{i=1}^{n} (\\hat{y}_i-y_i)^2$$\n",
    "โดยที่  \n",
    "$\\hat{y}$: ข้อมูลที่โมเดลทำนายออกมา  \n",
    "$y$: ข้อมูลที่แท้จริง  \n",
    "$n$: จำนวนข้อมูล  "
   ]
  },
  {
   "cell_type": "markdown",
   "metadata": {},
   "source": [
    "ซึ่งสามารถจัดรูปใหม่ได้เป็น\n",
    "$$MSE(\\boldsymbol{\\hat{y}}, \\boldsymbol{y}) = \\frac{1}{n} (\\boldsymbol{\\hat{y}} - \\boldsymbol{y})^T(\\boldsymbol{\\hat{y}} - \\boldsymbol{y})$$\n",
    "\n",
    "แล้วนำ $\\boldsymbol{\\hat{y}} = X\\boldsymbol{\\theta}$ มาแทนในสมการ จะได้\n",
    "$$MSE(X, \\boldsymbol{\\theta}, \\boldsymbol{y}) = \\frac{1}{n} (X\\boldsymbol{\\theta} - \\boldsymbol{y})^T(X\\boldsymbol{\\theta} - \\boldsymbol{y})$$\n",
    "\n",
    "ใน Python จะเขียนฟังก์ชัน MSE ได้แบบนี้"
   ]
  },
  {
   "cell_type": "code",
   "execution_count": 92,
   "metadata": {},
   "outputs": [],
   "source": [
    "def mse(y: np.ndarray, y_hat: np.ndarray):\n",
    "    '''\n",
    "    ### Mean Square Error\n",
    "\n",
    "    ### Parameters\n",
    "    y : ndarray\n",
    "        the actual value of y.\n",
    "    y_hat : ndarray\n",
    "        the predicted value of y. \n",
    "    '''\n",
    "    return ((y - y_hat).T.dot(y - y_hat) / len(y))[0, 0]"
   ]
  },
  {
   "cell_type": "markdown",
   "metadata": {},
   "source": [
    "$$\\begin{matrix} \\text{Vector derivative} \\\\ \\text{(B is a constant matrix)} \\end{matrix}$$\n",
    "$$\n",
    "\\begin{array}{c c c}\n",
    "\\hline\n",
    "\\\\ f(x) & \\rightarrow & \\frac{df}{dx} \\\\ \\\\\n",
    "\\hline \\\\\n",
    "\\boldsymbol{x}^TB & \\rightarrow & B \\\\ \n",
    "\\boldsymbol{x}^T\\boldsymbol{b} & \\rightarrow & \\boldsymbol{b} \\\\ \n",
    "\\boldsymbol{x}^T\\boldsymbol{x} & \\rightarrow & 2\\boldsymbol{x} \\\\\n",
    "\\boldsymbol{x}^TB\\boldsymbol{x} & \\rightarrow & 2B\\boldsymbol{x} \\\\\n",
    "\\end{array}\n",
    "$$\n",
    "ตารางสรุป [vector derivative](http://www.gatsby.ucl.ac.uk/teaching/courses/sntn/sntn-2017/resources/Matrix_derivatives_cribsheet.pdf) สำหรับการหา derivative ของ MSE"
   ]
  },
  {
   "cell_type": "markdown",
   "metadata": {},
   "source": [
    "เราต้องการหา $\\boldsymbol{\\theta}$ ที่ทำให้ MSE มีค่าออกมาน้อยที่สุดเท่าที่เป็นไปได้ จึงต้องทำการหา partial derivative ของ MSE เทียบกับ $\\boldsymbol{\\theta}$"
   ]
  },
  {
   "cell_type": "markdown",
   "metadata": {},
   "source": [
    "$$  \n",
    "\\def\\MSE{MSE(\\boldsymbol{\\theta})}\n",
    "\\def\\parMSE{\\frac{\\partial{\\MSE}}{\\partial{\\boldsymbol{\\theta}}}}\n",
    "\\begin{aligned}\n",
    "\\parMSE &= \\frac{\\partial}{\\partial{\\boldsymbol{\\theta}}}\n",
    "\\left[\\frac{1}{n} (X\\boldsymbol{\\theta} - \\boldsymbol{y})^T(X\\boldsymbol{\\theta} - \\boldsymbol{y})\\right] \\\\\n",
    "\n",
    "&= \\frac{\\partial}{\\partial{\\boldsymbol{\\theta}}}\n",
    "\\left[\\frac{1}{n} (\\boldsymbol{\\theta}^TX^T - \\boldsymbol{y}^T)(X\\boldsymbol{\\theta} - \\boldsymbol{y})\\right] \\\\\n",
    "\n",
    "&= \\frac{\\partial}{\\partial{\\boldsymbol{\\theta}}}\n",
    "\\left[\\frac{1}{n} (\\boldsymbol{\\theta}^TX^TX\\boldsymbol{\\theta} - \\boldsymbol{\\theta}^TX^Ty - y^TX\\boldsymbol{\\theta} + y^Ty)\\right] \\\\\n",
    "\n",
    "&= \\frac{\\partial}{\\partial{\\boldsymbol{\\theta}}}\n",
    "\\left[\\frac{1}{n} (\\boldsymbol{\\theta}^TX^TX\\boldsymbol{\\theta} - \\boldsymbol{\\theta}^TX^Ty - (y^TX\\boldsymbol{\\theta})^T + y^Ty)\\right] \\\\\n",
    "\n",
    "&= \\frac{\\partial}{\\partial{\\boldsymbol{\\theta}}}\n",
    "\\left[\\frac{1}{n} (\\boldsymbol{\\theta}^TX^TX\\boldsymbol{\\theta} - \\boldsymbol{\\theta}^TX^Ty - \\boldsymbol{\\theta}^TX^Ty + y^Ty)\\right] \\\\\n",
    "\n",
    "&= \\frac{\\partial}{\\partial{\\boldsymbol{\\theta}}}\n",
    "\\left[\\frac{1}{n} (\\boldsymbol{\\theta}^TX^TX\\boldsymbol{\\theta} - 2\\boldsymbol{\\theta}^TX^Ty + y^Ty)\\right] \\\\\n",
    "\n",
    "&= \\frac{1}{n} \\left(2X^TX\\boldsymbol{\\theta} - 2X^Ty \\right) \\\\\n",
    "\n",
    "&= \\frac{2}{n} \\left(X^TX\\boldsymbol{\\theta} - X^Ty \\right) \\\\\n",
    "\\end{aligned}\n",
    "$$"
   ]
  },
  {
   "cell_type": "markdown",
   "metadata": {},
   "source": [
    "จากนั้นหาค่าวิกฤตของ $\\theta$ ที่ทำให้ $\\parMSE$ เท่ากับ 0\n",
    "$$\n",
    "\\begin{aligned}\n",
    "\\parMSE &= 0 \\\\\n",
    "\\frac{2}{n} \\left(X^TX\\boldsymbol{\\theta} - X^Ty \\right) &= 0 \\\\\n",
    "X^TX\\boldsymbol{\\theta} - X^Ty &= 0 \\\\\n",
    "X^TX\\boldsymbol{\\theta} &= X^Ty \\\\\n",
    "\\boldsymbol{\\theta} &= (X^TX)^{-1}X^Ty \\\\\n",
    "\\end{aligned}\n",
    "$$\n",
    "สุดท้ายก็จะได้ออกมาเป็น [normal equation](https://eli.thegreenplace.net/2014/derivation-of-the-normal-equation-for-linear-regression)"
   ]
  },
  {
   "cell_type": "markdown",
   "metadata": {},
   "source": [
    "##### หลังจากนั้นเราจะสร้าง class สำหรับ linear regression โดยใช้ normal equation"
   ]
  },
  {
   "cell_type": "code",
   "execution_count": 93,
   "metadata": {},
   "outputs": [],
   "source": [
    "class ClosedFormRegression:\n",
    "    def __init__(self):\n",
    "        self.weights = None  # model parameters θ\n",
    "\n",
    "    def fit(self, x: np.ndarray, y: np.ndarray):\n",
    "        bias = np.ones((x.shape[0], 1))  # สร้าง x0\n",
    "        x = np.concatenate((bias, x), axis=1)  # เพิ่ม x0 ใน column แรก\n",
    "        self.weights = np.linalg.inv(x.T.dot(x)).dot(x.T).dot(y)  # normal equation\n",
    "        return self\n",
    "\n",
    "    def predict(self, x: np.ndarray) -> np.ndarray:\n",
    "        bias = np.ones((x.shape[0], 1))  # สร้าง x0\n",
    "        x = np.concatenate((bias, x), axis=1)  # เพิ่ม x0 ใน column แรก\n",
    "        return np.dot(x, self.weights)  # คำนวณ y_hat\n",
    "\n",
    "    def score(self, x: np.ndarray, y: np.ndarray) -> np.float64:\n",
    "        '''Calculate coefficient of determination (R^2)'''\n",
    "        ss_mean = np.sum((y - y.mean()) ** 2)\n",
    "        ss_fit = np.sum((y - self.predict(x)) ** 2)\n",
    "        return (ss_mean - ss_fit) / ss_mean"
   ]
  },
  {
   "cell_type": "markdown",
   "metadata": {},
   "source": [
    "สำหรับ method score คือ method ที่คำนวณ coefficient of determination ($R^2$)  \n",
    "coefficient of determination เป็นเลขที่อยู่ในช่วง 0 ถึง 1 บ่งบอกว่าโมเดลทำนายได้ดีแค่ไหน หาได้จากอัตราส่วนของ \n",
    "ความแปรปรวน (variance) ของ y จากค่าที่ทำนาย ($\\hat{y}$) กับความแปรปรวนของ y จากค่าเฉลี่ย แล้วนำค่าที่ได้ไปลบ 1\n",
    "$$\n",
    "R^2 = 1 - \\frac{(\\boldsymbol{y} - \\boldsymbol{\\hat{y}})^T(\\boldsymbol{y} - \\boldsymbol{\\hat{y}})}{(\\boldsymbol{y} - \\boldsymbol{\\bar{y}})^T(\\boldsymbol{y} - \\boldsymbol{\\bar{y}})}\n",
    "$$"
   ]
  },
  {
   "cell_type": "code",
   "execution_count": 94,
   "metadata": {},
   "outputs": [
    {
     "name": "stdout",
     "output_type": "stream",
     "text": [
      "Train score: 0.9179787435623722\n",
      " Test score: 0.9179971706834336\n"
     ]
    }
   ],
   "source": [
    "model = ClosedFormRegression()\n",
    "model.fit(X_train, y_train)\n",
    "print(\"Train score:\", model.score(X_train, y_train))\n",
    "print(\" Test score:\", model.score(X_test, y_test))"
   ]
  },
  {
   "cell_type": "markdown",
   "metadata": {},
   "source": [
    "ตัวเลขข้างต้นหมายถึง เปอร์เซ็นต์การกระจายของ y ที่สามารถอธิบายได้ด้วยตัวแปรอิสระ (x)"
   ]
  },
  {
   "cell_type": "markdown",
   "metadata": {},
   "source": [
    "##### ทำนายราคาบ้านในข้อมูลทดสอบ"
   ]
  },
  {
   "cell_type": "code",
   "execution_count": 95,
   "metadata": {},
   "outputs": [],
   "source": [
    "y_test_pred = model.predict(X_test)  # y test prediction"
   ]
  },
  {
   "cell_type": "markdown",
   "metadata": {},
   "source": [
    "สร้างตาราง input, output และ predicted output"
   ]
  },
  {
   "cell_type": "code",
   "execution_count": 96,
   "metadata": {},
   "outputs": [
    {
     "data": {
      "text/html": [
       "<div>\n",
       "<style scoped>\n",
       "    .dataframe tbody tr th:only-of-type {\n",
       "        vertical-align: middle;\n",
       "    }\n",
       "\n",
       "    .dataframe tbody tr th {\n",
       "        vertical-align: top;\n",
       "    }\n",
       "\n",
       "    .dataframe thead th {\n",
       "        text-align: right;\n",
       "    }\n",
       "</style>\n",
       "<table border=\"1\" class=\"dataframe\">\n",
       "  <thead>\n",
       "    <tr style=\"text-align: right;\">\n",
       "      <th></th>\n",
       "      <th>Avg. Area Income</th>\n",
       "      <th>Avg. Area House Age</th>\n",
       "      <th>Avg. Area Number of Rooms</th>\n",
       "      <th>Avg. Area Number of Bedrooms</th>\n",
       "      <th>Area Population</th>\n",
       "      <th>Price</th>\n",
       "      <th>Predict</th>\n",
       "      <th>Error</th>\n",
       "    </tr>\n",
       "  </thead>\n",
       "  <tbody>\n",
       "    <tr>\n",
       "      <th>0</th>\n",
       "      <td>61907.593345</td>\n",
       "      <td>7.017838</td>\n",
       "      <td>6.440256</td>\n",
       "      <td>3.25</td>\n",
       "      <td>43828.947207</td>\n",
       "      <td>1.339096e+06</td>\n",
       "      <td>1.308588e+06</td>\n",
       "      <td>-30508.150248</td>\n",
       "    </tr>\n",
       "    <tr>\n",
       "      <th>1</th>\n",
       "      <td>57160.202243</td>\n",
       "      <td>6.893260</td>\n",
       "      <td>6.921532</td>\n",
       "      <td>3.13</td>\n",
       "      <td>43467.147035</td>\n",
       "      <td>1.251794e+06</td>\n",
       "      <td>1.237037e+06</td>\n",
       "      <td>-14756.949343</td>\n",
       "    </tr>\n",
       "    <tr>\n",
       "      <th>2</th>\n",
       "      <td>70190.796445</td>\n",
       "      <td>6.745054</td>\n",
       "      <td>6.662567</td>\n",
       "      <td>2.01</td>\n",
       "      <td>29215.136112</td>\n",
       "      <td>1.340095e+06</td>\n",
       "      <td>1.243429e+06</td>\n",
       "      <td>-96665.625899</td>\n",
       "    </tr>\n",
       "    <tr>\n",
       "      <th>3</th>\n",
       "      <td>69316.796889</td>\n",
       "      <td>6.300409</td>\n",
       "      <td>7.873576</td>\n",
       "      <td>4.28</td>\n",
       "      <td>24448.211461</td>\n",
       "      <td>1.431508e+06</td>\n",
       "      <td>1.228900e+06</td>\n",
       "      <td>-202607.409824</td>\n",
       "    </tr>\n",
       "    <tr>\n",
       "      <th>4</th>\n",
       "      <td>72991.481649</td>\n",
       "      <td>3.412866</td>\n",
       "      <td>6.494081</td>\n",
       "      <td>2.48</td>\n",
       "      <td>50626.495426</td>\n",
       "      <td>1.042374e+06</td>\n",
       "      <td>1.063321e+06</td>\n",
       "      <td>20947.383012</td>\n",
       "    </tr>\n",
       "    <tr>\n",
       "      <th>...</th>\n",
       "      <td>...</td>\n",
       "      <td>...</td>\n",
       "      <td>...</td>\n",
       "      <td>...</td>\n",
       "      <td>...</td>\n",
       "      <td>...</td>\n",
       "      <td>...</td>\n",
       "      <td>...</td>\n",
       "    </tr>\n",
       "    <tr>\n",
       "      <th>995</th>\n",
       "      <td>77267.656264</td>\n",
       "      <td>3.939501</td>\n",
       "      <td>8.342808</td>\n",
       "      <td>6.09</td>\n",
       "      <td>22487.712072</td>\n",
       "      <td>1.107031e+06</td>\n",
       "      <td>1.042903e+06</td>\n",
       "      <td>-64128.670938</td>\n",
       "    </tr>\n",
       "    <tr>\n",
       "      <th>996</th>\n",
       "      <td>75967.135085</td>\n",
       "      <td>5.939370</td>\n",
       "      <td>6.111658</td>\n",
       "      <td>2.32</td>\n",
       "      <td>38897.091584</td>\n",
       "      <td>1.405505e+06</td>\n",
       "      <td>1.318532e+06</td>\n",
       "      <td>-86973.442132</td>\n",
       "    </tr>\n",
       "    <tr>\n",
       "      <th>997</th>\n",
       "      <td>81013.615294</td>\n",
       "      <td>7.149797</td>\n",
       "      <td>7.239105</td>\n",
       "      <td>5.44</td>\n",
       "      <td>45472.049451</td>\n",
       "      <td>1.924156e+06</td>\n",
       "      <td>1.870001e+06</td>\n",
       "      <td>-54154.099527</td>\n",
       "    </tr>\n",
       "    <tr>\n",
       "      <th>998</th>\n",
       "      <td>86762.882864</td>\n",
       "      <td>6.530193</td>\n",
       "      <td>5.106962</td>\n",
       "      <td>2.09</td>\n",
       "      <td>47724.581355</td>\n",
       "      <td>1.571254e+06</td>\n",
       "      <td>1.663624e+06</td>\n",
       "      <td>92370.326701</td>\n",
       "    </tr>\n",
       "    <tr>\n",
       "      <th>999</th>\n",
       "      <td>67071.830617</td>\n",
       "      <td>4.935155</td>\n",
       "      <td>7.632398</td>\n",
       "      <td>5.04</td>\n",
       "      <td>32084.743400</td>\n",
       "      <td>8.831475e+05</td>\n",
       "      <td>1.045097e+06</td>\n",
       "      <td>161949.079534</td>\n",
       "    </tr>\n",
       "  </tbody>\n",
       "</table>\n",
       "<p>1000 rows × 8 columns</p>\n",
       "</div>"
      ],
      "text/plain": [
       "     Avg. Area Income  Avg. Area House Age  Avg. Area Number of Rooms  \\\n",
       "0        61907.593345             7.017838                   6.440256   \n",
       "1        57160.202243             6.893260                   6.921532   \n",
       "2        70190.796445             6.745054                   6.662567   \n",
       "3        69316.796889             6.300409                   7.873576   \n",
       "4        72991.481649             3.412866                   6.494081   \n",
       "..                ...                  ...                        ...   \n",
       "995      77267.656264             3.939501                   8.342808   \n",
       "996      75967.135085             5.939370                   6.111658   \n",
       "997      81013.615294             7.149797                   7.239105   \n",
       "998      86762.882864             6.530193                   5.106962   \n",
       "999      67071.830617             4.935155                   7.632398   \n",
       "\n",
       "     Avg. Area Number of Bedrooms  Area Population         Price  \\\n",
       "0                            3.25     43828.947207  1.339096e+06   \n",
       "1                            3.13     43467.147035  1.251794e+06   \n",
       "2                            2.01     29215.136112  1.340095e+06   \n",
       "3                            4.28     24448.211461  1.431508e+06   \n",
       "4                            2.48     50626.495426  1.042374e+06   \n",
       "..                            ...              ...           ...   \n",
       "995                          6.09     22487.712072  1.107031e+06   \n",
       "996                          2.32     38897.091584  1.405505e+06   \n",
       "997                          5.44     45472.049451  1.924156e+06   \n",
       "998                          2.09     47724.581355  1.571254e+06   \n",
       "999                          5.04     32084.743400  8.831475e+05   \n",
       "\n",
       "          Predict          Error  \n",
       "0    1.308588e+06  -30508.150248  \n",
       "1    1.237037e+06  -14756.949343  \n",
       "2    1.243429e+06  -96665.625899  \n",
       "3    1.228900e+06 -202607.409824  \n",
       "4    1.063321e+06   20947.383012  \n",
       "..            ...            ...  \n",
       "995  1.042903e+06  -64128.670938  \n",
       "996  1.318532e+06  -86973.442132  \n",
       "997  1.870001e+06  -54154.099527  \n",
       "998  1.663624e+06   92370.326701  \n",
       "999  1.045097e+06  161949.079534  \n",
       "\n",
       "[1000 rows x 8 columns]"
      ]
     },
     "execution_count": 96,
     "metadata": {},
     "output_type": "execute_result"
    }
   ],
   "source": [
    "test_result = pd.DataFrame(X_test, columns=df.columns[:5])\n",
    "test_result['Price'] = y_test\n",
    "test_result['Predict'] = y_test_pred\n",
    "test_result['Error'] = y_test_pred - y_test\n",
    "test_result"
   ]
  },
  {
   "cell_type": "markdown",
   "metadata": {},
   "source": [
    "##### ตรวจสอบน้ำหนัก (θ)"
   ]
  },
  {
   "cell_type": "code",
   "execution_count": 97,
   "metadata": {},
   "outputs": [
    {
     "name": "stdout",
     "output_type": "stream",
     "text": [
      "[[-2635072.90093305]  -> θ[0] (Intercept)\n",
      " [      21.65220576]  -> θ[1] (Avg. Area Income)\n",
      " [  164666.48072189]  -> θ[2] (Avg. Area House Age)\n",
      " [  119624.01223206]  -> θ[3] (Avg. Area Number of Rooms)\n",
      " [    2440.37761102]  -> θ[4] (Avg. Area Number of Bedrooms)\n",
      " [      15.27031343]] -> θ[5] (Area Population)\n"
     ]
    }
   ],
   "source": [
    "np.set_printoptions(suppress=True)  # suppress scientific notation\n",
    "w_names = [\"Intercept\"] + list(df.columns)\n",
    "for i, line in enumerate(str(model.weights).splitlines()):\n",
    "    print(f\"{line:21} -> θ[{i}] ({w_names[i]})\")\n",
    "np.set_printoptions(suppress=False)"
   ]
  },
  {
   "cell_type": "markdown",
   "metadata": {},
   "source": [
    "ค่าน้ำหนักแต่ละค่าสามารถสื่อถึงความสำคัญของแต่ละ feature ได้ \n",
    "แต่เพราะว่าช่วงตัวเลขของแต่ละ feature มีค่าไม่เท่ากัน อาจทำให้เข้าใจผิดว่าบาง feature ไม่สำคัญหรือสำคัญเกินไป\n",
    "\n",
    "\n",
    "ดังนั้นเพื่อแก้ปัญหานี้จึงนำไปสู่หัวข้อถัดไป"
   ]
  },
  {
   "cell_type": "markdown",
   "metadata": {},
   "source": [
    "## 📏 Standardization"
   ]
  },
  {
   "cell_type": "markdown",
   "metadata": {},
   "source": [
    "[Standardization](https://en.wikipedia.org/wiki/Standard_score) หรือ Z-score normalization คือการนำข้อมูล Feature / Column มาปรับให้ Mean ($\\bar x$) = 0 และ Standard Deviation ($\\sigma$) = 1 (Unit Variance)  \n",
    "ทำให้ข้อมูลทั้งหมดอยู่ในช่วงเดียวกัน\n",
    "$$\n",
    "x^\\prime= \\frac{x - \\bar{x}}{\\sigma}\n",
    "$$"
   ]
  },
  {
   "cell_type": "code",
   "execution_count": 98,
   "metadata": {},
   "outputs": [],
   "source": [
    "class StandardScaler:\n",
    "    def __init__(self):\n",
    "        self.mean = 0\n",
    "        self.std = 1\n",
    "\n",
    "    def fit(self, x: np.ndarray):\n",
    "        '''Compute the mean and std to be used for later scaling'''\n",
    "        self.mean = np.mean(x, axis=0)  # mean of each column\n",
    "        self.std = np.std(x, axis=0)  # std of each column\n",
    "        return self\n",
    "\n",
    "    def transform(self, x: np.ndarray) -> np.ndarray:\n",
    "        '''Perform standardization'''\n",
    "        return (x - self.mean) / self.std"
   ]
  },
  {
   "cell_type": "markdown",
   "metadata": {},
   "source": [
    "##### standardization dataset"
   ]
  },
  {
   "cell_type": "code",
   "execution_count": 99,
   "metadata": {},
   "outputs": [],
   "source": [
    "scaler = StandardScaler()\n",
    "scaler.fit(X)\n",
    "tX = scaler.transform(X)  # transformed X\n",
    "\n",
    "split: list[np.ndarray] = train_test_split(tX, test_size=test_percent, random_state=seed)\n",
    "X_train_scaled, X_test_scaled = split"
   ]
  },
  {
   "cell_type": "markdown",
   "metadata": {},
   "source": [
    "ฝึกโมเดลอึกครั้งด้วยข้อมูลที่ทำ standardization แล้ว"
   ]
  },
  {
   "cell_type": "code",
   "execution_count": 100,
   "metadata": {},
   "outputs": [
    {
     "name": "stdout",
     "output_type": "stream",
     "text": [
      "Train score: 0.9179787435623722\n",
      " Test score: 0.9179971706834332\n"
     ]
    }
   ],
   "source": [
    "std_model = ClosedFormRegression()\n",
    "std_model.fit(X_train_scaled, y_train)\n",
    "print(\"Train score:\", std_model.score(X_train_scaled, y_train))\n",
    "print(\" Test score:\", std_model.score(X_test_scaled, y_test))"
   ]
  },
  {
   "cell_type": "markdown",
   "metadata": {},
   "source": [
    "##### ทำนายราคาบ้านด้วย X ที่ standardization แล้ว"
   ]
  },
  {
   "cell_type": "code",
   "execution_count": 101,
   "metadata": {},
   "outputs": [],
   "source": [
    "y_test_scaled_pred = std_model.predict(X_test_scaled)"
   ]
  },
  {
   "cell_type": "markdown",
   "metadata": {},
   "source": [
    "เปรียบเทียบราคาที่ทำนายจากทั้งสองข้อมูล"
   ]
  },
  {
   "cell_type": "code",
   "execution_count": 102,
   "metadata": {},
   "outputs": [
    {
     "data": {
      "text/html": [
       "<div>\n",
       "<style scoped>\n",
       "    .dataframe tbody tr th:only-of-type {\n",
       "        vertical-align: middle;\n",
       "    }\n",
       "\n",
       "    .dataframe tbody tr th {\n",
       "        vertical-align: top;\n",
       "    }\n",
       "\n",
       "    .dataframe thead th {\n",
       "        text-align: right;\n",
       "    }\n",
       "</style>\n",
       "<table border=\"1\" class=\"dataframe\">\n",
       "  <thead>\n",
       "    <tr style=\"text-align: right;\">\n",
       "      <th></th>\n",
       "      <th>Not scaled</th>\n",
       "      <th>Scaled</th>\n",
       "    </tr>\n",
       "  </thead>\n",
       "  <tbody>\n",
       "    <tr>\n",
       "      <th>0</th>\n",
       "      <td>1.308588e+06</td>\n",
       "      <td>1.308588e+06</td>\n",
       "    </tr>\n",
       "    <tr>\n",
       "      <th>1</th>\n",
       "      <td>1.237037e+06</td>\n",
       "      <td>1.237037e+06</td>\n",
       "    </tr>\n",
       "    <tr>\n",
       "      <th>2</th>\n",
       "      <td>1.243429e+06</td>\n",
       "      <td>1.243429e+06</td>\n",
       "    </tr>\n",
       "    <tr>\n",
       "      <th>3</th>\n",
       "      <td>1.228900e+06</td>\n",
       "      <td>1.228900e+06</td>\n",
       "    </tr>\n",
       "    <tr>\n",
       "      <th>4</th>\n",
       "      <td>1.063321e+06</td>\n",
       "      <td>1.063321e+06</td>\n",
       "    </tr>\n",
       "    <tr>\n",
       "      <th>...</th>\n",
       "      <td>...</td>\n",
       "      <td>...</td>\n",
       "    </tr>\n",
       "    <tr>\n",
       "      <th>995</th>\n",
       "      <td>1.042903e+06</td>\n",
       "      <td>1.042903e+06</td>\n",
       "    </tr>\n",
       "    <tr>\n",
       "      <th>996</th>\n",
       "      <td>1.318532e+06</td>\n",
       "      <td>1.318532e+06</td>\n",
       "    </tr>\n",
       "    <tr>\n",
       "      <th>997</th>\n",
       "      <td>1.870001e+06</td>\n",
       "      <td>1.870001e+06</td>\n",
       "    </tr>\n",
       "    <tr>\n",
       "      <th>998</th>\n",
       "      <td>1.663624e+06</td>\n",
       "      <td>1.663624e+06</td>\n",
       "    </tr>\n",
       "    <tr>\n",
       "      <th>999</th>\n",
       "      <td>1.045097e+06</td>\n",
       "      <td>1.045097e+06</td>\n",
       "    </tr>\n",
       "  </tbody>\n",
       "</table>\n",
       "<p>1000 rows × 2 columns</p>\n",
       "</div>"
      ],
      "text/plain": [
       "       Not scaled        Scaled\n",
       "0    1.308588e+06  1.308588e+06\n",
       "1    1.237037e+06  1.237037e+06\n",
       "2    1.243429e+06  1.243429e+06\n",
       "3    1.228900e+06  1.228900e+06\n",
       "4    1.063321e+06  1.063321e+06\n",
       "..            ...           ...\n",
       "995  1.042903e+06  1.042903e+06\n",
       "996  1.318532e+06  1.318532e+06\n",
       "997  1.870001e+06  1.870001e+06\n",
       "998  1.663624e+06  1.663624e+06\n",
       "999  1.045097e+06  1.045097e+06\n",
       "\n",
       "[1000 rows x 2 columns]"
      ]
     },
     "execution_count": 102,
     "metadata": {},
     "output_type": "execute_result"
    }
   ],
   "source": [
    "pd.DataFrame({\"Not scaled\": y_test_pred.ravel(), \"Scaled\": y_test_scaled_pred.ravel()})"
   ]
  },
  {
   "cell_type": "markdown",
   "metadata": {},
   "source": [
    "##### ตรวจสอบน้ำหนักอีกครั้ง"
   ]
  },
  {
   "cell_type": "code",
   "execution_count": 103,
   "metadata": {},
   "outputs": [
    {
     "name": "stdout",
     "output_type": "stream",
     "text": [
      "[[1232002.67482016]   -> θ[0] (Intercept)\n",
      " [ 230745.9407329 ]   -> θ[1] (Avg. Area Income)\n",
      " [ 163243.2731459 ]   -> θ[2] (Avg. Area House Age)\n",
      " [ 120309.77397939]   -> θ[3] (Avg. Area Number of Rooms)\n",
      " [   3011.45976047]   -> θ[4] (Avg. Area Number of Bedrooms)\n",
      " [ 151552.63069253]]  -> θ[5] (Area Population)\n"
     ]
    }
   ],
   "source": [
    "np.set_printoptions(suppress=True)  # suppress scientific notation\n",
    "w_names = [\"Intercept\"] + list(df.columns)\n",
    "for i, line in enumerate(str(std_model.weights).splitlines()):\n",
    "    print(f\"{line:21} -> θ[{i}] ({w_names[i]})\")\n",
    "np.set_printoptions(suppress=False)"
   ]
  },
  {
   "cell_type": "markdown",
   "metadata": {},
   "source": [
    "จากน้ำหนักข้างต้น ทำให้สรุปได้ว่า  \n",
    "* Avg. Area Income เป็นปัจจัยหลักที่ส่งผลต่อราคาบ้านมากที่สุด  \n",
    "* Avg. Area Number of Bedrooms เป็นปัจจัยที่ส่งผลต่อราคาบ้านน้อยที่สุด"
   ]
  },
  {
   "cell_type": "markdown",
   "metadata": {},
   "source": [
    "## 📉 Gradient Descent"
   ]
  },
  {
   "cell_type": "markdown",
   "metadata": {},
   "source": [
    "อีกรูปแบบหนึ่งของการฝึกโมเดลโดยการมอง linear regression ในรูปแบบของ neural network โดยแทนที่จะหาคำตอบโดยตรง จะเปลี่ยนเป็นการทำให้ค่า cost ค่อยๆน้อยลงเรื่อยๆ  \n",
    "โดยโครงสร้างของ neural network จะเป็นแบบนี้  \n",
    "\n",
    "<img src=\"https://github.com/sanfong/HouseLinReg/blob/main/NeuralModel.jpg?raw=true\" width=\"800\"/>\n",
    "\n",
    "โดย Gradient Descent ต้องการหาว่าเปลี่ยนน้ำหนักในทิศทางไหนที่ทำให้ cost ลดลงได้มากที่สุด ดังนั้นเราจึงต้องหา $\\parMSE$ ที่ได้มาก่อนหน้านี้\n",
    "$$\n",
    "\\begin{aligned}\n",
    "\\parMSE &= \\frac{2}{n} \\left(X^TX\\boldsymbol{\\theta} - X^Ty \\right) \\\\\n",
    "&= \\frac{2}{n} ~ X^T\\left(X\\boldsymbol{\\theta} - y \\right) \\\\\n",
    "\\end{aligned}\n",
    "$$\n",
    "ถ้าหากความชันจาก $\\parMSE$ มีค่าเป็นบวก เราจะต้องลดค่าน้ำหนักลง  \n",
    "\n",
    "![theta-decrease](https://media.geeksforgeeks.org/wp-content/uploads/theta-decrease.jpg)\n",
    "\n",
    "แต่ถ้าความชันมีค่าเป็นลบ เราจะต้องเพิ่มค่าน้ำหนักขึ้น\n",
    "\n",
    "![theta-increase](https://media.geeksforgeeks.org/wp-content/uploads/theta-increase.jpg)\n",
    "\n",
    "หลังจากที่เรารู้ทิศทาง เราจำเป็นที่จะต้องรู้ระยะทางด้วยว่าควรเปลี่ยนค่าน้ำหนักมากน้อยแค่ไหน จึงต้องมีการกำหนด learning rate ($\\alpha$)  \n",
    "การกำหนด learning rate มีความสำคัญตรงที่หากกำหนด learning rate มากเกินไปอาจทำให้ผลลัพธ์แย่กว่าเดิม แต่ถ้าน้อยเกินไปจะทำให้ใช้เวลาฝึกนาน\n",
    "\n",
    "![learning rate](https://www.educative.io/cdn-cgi/image/f=auto,fit=contain,w=600/api/edpresso/shot/5555558418481152/image/6288908431130624.png)\n",
    "\n",
    "สรุปแล้วสมการการเปลื่ยนค่าน้ำหนักคือ\n",
    "$$\n",
    "\\boldsymbol{\\theta} = \\boldsymbol{\\theta} - \\alpha \\parMSE\n",
    "$$"
   ]
  },
  {
   "cell_type": "markdown",
   "metadata": {},
   "source": [
    "##### สร้าง class สำหรับ linear regression ด้วยวิธี gradient descent"
   ]
  },
  {
   "cell_type": "code",
   "execution_count": 104,
   "metadata": {},
   "outputs": [],
   "source": [
    "class GradientRegression:\n",
    "    def __init__(self):\n",
    "        self.weights = None\n",
    "\n",
    "    def train(self, x: np.ndarray, y: np.ndarray, *, learning_rate=0.01, epoch=10000, get_progess=False, points=100):\n",
    "        bias = np.ones((x.shape[0], 1))\n",
    "        x = np.concatenate((bias, x), axis=1)\n",
    "        if self.weights is None:\n",
    "            self.weights = np.ones((x.shape[1], 1))  # ให้น้ำหนักเริ่มต้นเท่ากับ 1\n",
    "            self.weights[0, 0] = 0  # intercept = 0\n",
    "\n",
    "        if get_progess:\n",
    "            times = [0]\n",
    "            errors = [mse(y, x.dot(self.weights))]\n",
    "\n",
    "        for i in range(1, epoch+1):\n",
    "            slope = x.T.dot(x.dot(self.weights) - y) / y.shape[0]\n",
    "            self.weights = self.weights - learning_rate * slope\n",
    "\n",
    "            if get_progess and i % (epoch // points) == 0:\n",
    "                times.append(i)\n",
    "                errors.append(mse(y, x.dot(self.weights)))\n",
    "\n",
    "        if get_progess:\n",
    "            return times, errors\n",
    "            \n",
    "        return self\n",
    "\n",
    "    def predict(self, x: np.ndarray) -> np.ndarray:\n",
    "        bias = np.ones((x.shape[0], 1))  # สร้าง x0\n",
    "        x = np.concatenate((bias, x), axis=1)  # เพิ่ม x0 ใน column แรก\n",
    "        return np.dot(x, self.weights)  # คำนวณ y_hat\n",
    "\n",
    "    def score(self, x: np.ndarray, y: np.ndarray) -> np.float64:\n",
    "        '''Calculate coefficient of determination (R^2)'''\n",
    "        ss_mean = np.sum((y - y.mean()) ** 2)\n",
    "        ss_fit = np.sum((y - self.predict(x)) ** 2)\n",
    "        return (ss_mean - ss_fit) / ss_mean"
   ]
  },
  {
   "cell_type": "markdown",
   "metadata": {},
   "source": [
    "##### การฝึกด้วย gradient descent ข้อมูลที่จะใช้ฝึกต้องผ่าน standardization มาแล้ว"
   ]
  },
  {
   "cell_type": "code",
   "execution_count": 105,
   "metadata": {},
   "outputs": [
    {
     "name": "stdout",
     "output_type": "stream",
     "text": [
      "MSE after train: 10,256,318,870.47051\n",
      "Test score: 0.9179970241994562\n"
     ]
    }
   ],
   "source": [
    "gr = GradientRegression()\n",
    "grXplot, grYplot = gr.train(X_train_scaled, y_train, get_progess=True, epoch=500, learning_rate=0.04)\n",
    "print(f\"MSE after train: {grYplot[-1]:,}\")\n",
    "print(\"Test score:\", gr.score(X_test_scaled, y_test))"
   ]
  },
  {
   "cell_type": "markdown",
   "metadata": {},
   "source": [
    "น้ำหนักที่ได้"
   ]
  },
  {
   "cell_type": "code",
   "execution_count": 106,
   "metadata": {},
   "outputs": [
    {
     "name": "stdout",
     "output_type": "stream",
     "text": [
      "[[1232002.64304797]   -> θ[0] (Intercept)\n",
      " [ 230745.82992206]   -> θ[1] (Avg. Area Income)\n",
      " [ 163243.20484492]   -> θ[2] (Avg. Area House Age)\n",
      " [ 120308.119379  ]   -> θ[3] (Avg. Area Number of Rooms)\n",
      " [   3013.15164837]   -> θ[4] (Avg. Area Number of Bedrooms)\n",
      " [ 151552.66929325]]  -> θ[5] (Area Population)\n"
     ]
    }
   ],
   "source": [
    "np.set_printoptions(suppress=True)\n",
    "w_names = [\"Intercept\"] + list(df.columns)\n",
    "for i, line in enumerate(str(gr.weights).splitlines()):\n",
    "    print(f\"{line:21} -> θ[{i}] ({w_names[i]})\")\n",
    "np.set_printoptions(suppress=False)"
   ]
  },
  {
   "cell_type": "markdown",
   "metadata": {},
   "source": [
    "##### หากฝึกด้วยข้อมูลที่ยังไม่ standardization"
   ]
  },
  {
   "cell_type": "code",
   "execution_count": 107,
   "metadata": {},
   "outputs": [
    {
     "name": "stdout",
     "output_type": "stream",
     "text": [
      "MSE after train: 62,335,233,384.208885\n",
      "Test score: 0.48944408876855433\n"
     ]
    }
   ],
   "source": [
    "gr2 = GradientRegression()\n",
    "gr2Xplot, gr2Yplot = gr2.train(X_train, y_train, get_progess=True, learning_rate=3e-10, epoch=500)\n",
    "print(f\"MSE after train: {gr2Yplot[-1]:,}\")\n",
    "print(\"Test score:\", gr2.score(X_test, y_test))"
   ]
  },
  {
   "cell_type": "markdown",
   "metadata": {},
   "source": [
    "น้ำหนักที่ได้"
   ]
  },
  {
   "cell_type": "code",
   "execution_count": 108,
   "metadata": {},
   "outputs": [
    {
     "name": "stdout",
     "output_type": "stream",
     "text": [
      "[[-0.00190546]   -> θ[0] (Intercept)\n",
      " [13.04623599]   -> θ[1] (Avg. Area Income)\n",
      " [ 1.01257321]   -> θ[2] (Avg. Area House Age)\n",
      " [ 1.00467537]   -> θ[3] (Avg. Area Number of Rooms)\n",
      " [ 1.00364568]   -> θ[4] (Avg. Area Number of Bedrooms)\n",
      " [ 9.65965603]]  -> θ[5] (Area Population)\n"
     ]
    }
   ],
   "source": [
    "np.set_printoptions(suppress=True)\n",
    "w_names = [\"Intercept\"] + list(df.columns)\n",
    "for i, line in enumerate(str(gr2.weights).splitlines()):\n",
    "    print(f\"{line:16} -> θ[{i}] ({w_names[i]})\")\n",
    "np.set_printoptions(suppress=False)"
   ]
  },
  {
   "cell_type": "markdown",
   "metadata": {},
   "source": [
    "##### เปรียบเทียบผลการฝึกจากข้อมูลทั้งสองแบบ"
   ]
  },
  {
   "cell_type": "code",
   "execution_count": 109,
   "metadata": {},
   "outputs": [
    {
     "data": {
      "image/png": "[encoded data removed]",
      "text/plain": [
       "<Figure size 640x480 with 1 Axes>"
      ]
     },
     "metadata": {},
     "output_type": "display_data"
    }
   ],
   "source": [
    "plt.plot(grXplot, grYplot, label=\"normalized\")\n",
    "plt.plot(gr2Xplot, gr2Yplot, label=\"original\")\n",
    "plt.xlabel(\"epoch\")\n",
    "plt.ylabel(\"cost\")\n",
    "plt.legend()\n",
    "plt.show()"
   ]
  }
 ],
 "metadata": {
  "kernelspec": {
   "display_name": "Python 3.10.5 64-bit",
   "language": "python",
   "name": "python3"
  },
  "language_info": {
   "codemirror_mode": {
    "name": "ipython",
    "version": 3
   },
   "file_extension": ".py",
   "mimetype": "text/x-python",
   "name": "python",
   "nbconvert_exporter": "python",
   "pygments_lexer": "ipython3",
   "version": "3.10.5"
  },
  "orig_nbformat": 4,
  "vscode": {
   "interpreter": {
    "hash": "3196968d684371006099b3d55edeef8ed90365227a30deaef86e5d4aa8519be0"
   }
  }
 },
 "nbformat": 4,
 "nbformat_minor": 2
}
